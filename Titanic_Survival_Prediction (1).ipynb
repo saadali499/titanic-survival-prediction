{
 "cells": [
  {
   "cell_type": "markdown",
   "id": "8300a037-c393-4de0-91c8-08b83ecaaef9",
   "metadata": {},
   "source": [
    "# 🧠 Titanic Survival Prediction - Machine Learning Model\n",
    "\n",
    "In this project, we use supervised machine learning to predict whether a passenger on the Titanic would survive, based on features such as gender, class, and age. We use the Logistic Regression and Decision Tree models from Scikit-learn.\n"
   ]
  },
  {
   "cell_type": "code",
   "execution_count": 43,
   "id": "c5b7dfe1-bab0-476c-b10e-6ad242b091b5",
   "metadata": {},
   "outputs": [],
   "source": [
    "import pandas as pd\n",
    "import numpy as np\n",
    "import matplotlib.pyplot as plt\n",
    "import seaborn as sns\n",
    "\n",
    "from sklearn.model_selection import train_test_split\n",
    "from sklearn.preprocessing import LabelEncoder\n",
    "from sklearn.linear_model import LogisticRegression\n",
    "from sklearn.tree import DecisionTreeClassifier\n",
    "from sklearn.metrics import accuracy_score, classification_report, confusion_matrix\n",
    "\n",
    "sns.set(style=\"whitegrid\")\n"
   ]
  },
  {
   "cell_type": "markdown",
   "id": "0bfd8a23-01a1-40dd-b3c9-205958d855e7",
   "metadata": {},
   "source": [
    "## 📥 Load & Inspect Data\n",
    "We use the same `train.csv` dataset from the Titanic Kaggle challenge.\n"
   ]
  },
  {
   "cell_type": "code",
   "execution_count": 45,
   "id": "27935cfd-03eb-4847-bc28-8a4270b6b1a9",
   "metadata": {},
   "outputs": [
    {
     "data": {
      "text/html": [
       "<div>\n",
       "<style scoped>\n",
       "    .dataframe tbody tr th:only-of-type {\n",
       "        vertical-align: middle;\n",
       "    }\n",
       "\n",
       "    .dataframe tbody tr th {\n",
       "        vertical-align: top;\n",
       "    }\n",
       "\n",
       "    .dataframe thead th {\n",
       "        text-align: right;\n",
       "    }\n",
       "</style>\n",
       "<table border=\"1\" class=\"dataframe\">\n",
       "  <thead>\n",
       "    <tr style=\"text-align: right;\">\n",
       "      <th></th>\n",
       "      <th>PassengerId</th>\n",
       "      <th>Survived</th>\n",
       "      <th>Pclass</th>\n",
       "      <th>Name</th>\n",
       "      <th>Sex</th>\n",
       "      <th>Age</th>\n",
       "      <th>SibSp</th>\n",
       "      <th>Parch</th>\n",
       "      <th>Ticket</th>\n",
       "      <th>Fare</th>\n",
       "      <th>Cabin</th>\n",
       "      <th>Embarked</th>\n",
       "    </tr>\n",
       "  </thead>\n",
       "  <tbody>\n",
       "    <tr>\n",
       "      <th>0</th>\n",
       "      <td>1</td>\n",
       "      <td>0</td>\n",
       "      <td>3</td>\n",
       "      <td>Braund, Mr. Owen Harris</td>\n",
       "      <td>male</td>\n",
       "      <td>22.0</td>\n",
       "      <td>1</td>\n",
       "      <td>0</td>\n",
       "      <td>A/5 21171</td>\n",
       "      <td>7.2500</td>\n",
       "      <td>NaN</td>\n",
       "      <td>S</td>\n",
       "    </tr>\n",
       "    <tr>\n",
       "      <th>1</th>\n",
       "      <td>2</td>\n",
       "      <td>1</td>\n",
       "      <td>1</td>\n",
       "      <td>Cumings, Mrs. John Bradley (Florence Briggs Th...</td>\n",
       "      <td>female</td>\n",
       "      <td>38.0</td>\n",
       "      <td>1</td>\n",
       "      <td>0</td>\n",
       "      <td>PC 17599</td>\n",
       "      <td>71.2833</td>\n",
       "      <td>C85</td>\n",
       "      <td>C</td>\n",
       "    </tr>\n",
       "    <tr>\n",
       "      <th>2</th>\n",
       "      <td>3</td>\n",
       "      <td>1</td>\n",
       "      <td>3</td>\n",
       "      <td>Heikkinen, Miss. Laina</td>\n",
       "      <td>female</td>\n",
       "      <td>26.0</td>\n",
       "      <td>0</td>\n",
       "      <td>0</td>\n",
       "      <td>STON/O2. 3101282</td>\n",
       "      <td>7.9250</td>\n",
       "      <td>NaN</td>\n",
       "      <td>S</td>\n",
       "    </tr>\n",
       "    <tr>\n",
       "      <th>3</th>\n",
       "      <td>4</td>\n",
       "      <td>1</td>\n",
       "      <td>1</td>\n",
       "      <td>Futrelle, Mrs. Jacques Heath (Lily May Peel)</td>\n",
       "      <td>female</td>\n",
       "      <td>35.0</td>\n",
       "      <td>1</td>\n",
       "      <td>0</td>\n",
       "      <td>113803</td>\n",
       "      <td>53.1000</td>\n",
       "      <td>C123</td>\n",
       "      <td>S</td>\n",
       "    </tr>\n",
       "    <tr>\n",
       "      <th>4</th>\n",
       "      <td>5</td>\n",
       "      <td>0</td>\n",
       "      <td>3</td>\n",
       "      <td>Allen, Mr. William Henry</td>\n",
       "      <td>male</td>\n",
       "      <td>35.0</td>\n",
       "      <td>0</td>\n",
       "      <td>0</td>\n",
       "      <td>373450</td>\n",
       "      <td>8.0500</td>\n",
       "      <td>NaN</td>\n",
       "      <td>S</td>\n",
       "    </tr>\n",
       "  </tbody>\n",
       "</table>\n",
       "</div>"
      ],
      "text/plain": [
       "   PassengerId  Survived  Pclass  \\\n",
       "0            1         0       3   \n",
       "1            2         1       1   \n",
       "2            3         1       3   \n",
       "3            4         1       1   \n",
       "4            5         0       3   \n",
       "\n",
       "                                                Name     Sex   Age  SibSp  \\\n",
       "0                            Braund, Mr. Owen Harris    male  22.0      1   \n",
       "1  Cumings, Mrs. John Bradley (Florence Briggs Th...  female  38.0      1   \n",
       "2                             Heikkinen, Miss. Laina  female  26.0      0   \n",
       "3       Futrelle, Mrs. Jacques Heath (Lily May Peel)  female  35.0      1   \n",
       "4                           Allen, Mr. William Henry    male  35.0      0   \n",
       "\n",
       "   Parch            Ticket     Fare Cabin Embarked  \n",
       "0      0         A/5 21171   7.2500   NaN        S  \n",
       "1      0          PC 17599  71.2833   C85        C  \n",
       "2      0  STON/O2. 3101282   7.9250   NaN        S  \n",
       "3      0            113803  53.1000  C123        S  \n",
       "4      0            373450   8.0500   NaN        S  "
      ]
     },
     "execution_count": 45,
     "metadata": {},
     "output_type": "execute_result"
    }
   ],
   "source": [
    "# Use raw string to avoid backslash issues\n",
    "df = pd.read_csv(r'D:\\Python Projects\\titanic\\train.csv')\n",
    "\n",
    "# Display first few rows\n",
    "df.head()"
   ]
  },
  {
   "cell_type": "markdown",
   "id": "52d423aa-d994-4800-bd89-66b66f4dc399",
   "metadata": {},
   "source": [
    "## 🧹 Data Cleaning & Preprocessing\n",
    "\n",
    "We handle missing values, drop irrelevant features, and encode categorical columns.\n"
   ]
  },
  {
   "cell_type": "code",
   "execution_count": 47,
   "id": "c8cf95ce-2c27-417f-84ba-6c2ad9889bf8",
   "metadata": {},
   "outputs": [],
   "source": [
    "# Fill Age with median\n",
    "df['Age'] = df['Age'].fillna(df['Age'].median())\n",
    "\n",
    "# Fill Embarked with mode\n",
    "df['Embarked'] = df['Embarked'].fillna(df['Embarked'].mode()[0])\n",
    "\n",
    "# Drop Cabin, Ticket, Name, PassengerId\n",
    "df.drop(columns=['Cabin', 'Ticket', 'Name', 'PassengerId'], inplace=True)\n"
   ]
  },
  {
   "cell_type": "markdown",
   "id": "7665651b-267b-40c0-bbeb-819a2f493471",
   "metadata": {},
   "source": [
    "## 🔤 Encoding Categorical Variables\n",
    "\n",
    "We use Label Encoding for 'Sex' and 'Embarked'.\n"
   ]
  },
  {
   "cell_type": "code",
   "execution_count": 49,
   "id": "af999903-66a9-44de-9b2e-723e94f205ec",
   "metadata": {},
   "outputs": [],
   "source": [
    "le = LabelEncoder()\n",
    "df['Sex'] = le.fit_transform(df['Sex'])          # male = 1, female = 0\n",
    "df['Embarked'] = le.fit_transform(df['Embarked'])  # S, C, Q → 2, 0, 1\n"
   ]
  },
  {
   "cell_type": "markdown",
   "id": "0df20f00-0233-416e-a80b-955cb11e34a3",
   "metadata": {},
   "source": [
    "## 🧠 Feature Selection\n",
    "\n",
    "We select input features (X) and target label (y).\n"
   ]
  },
  {
   "cell_type": "code",
   "execution_count": 51,
   "id": "78a7fc1f-8392-412b-b5e4-8ba65574e36c",
   "metadata": {},
   "outputs": [],
   "source": [
    "X = df.drop('Survived', axis=1)\n",
    "y = df['Survived']\n"
   ]
  },
  {
   "cell_type": "markdown",
   "id": "d5fb9430-cd50-421a-b575-c9f5fd3fbb94",
   "metadata": {},
   "source": [
    "## 📊 Split Data into Train & Test Sets\n",
    "We use 80% of the data for training and 20% for testing.\n"
   ]
  },
  {
   "cell_type": "code",
   "execution_count": 53,
   "id": "1df2d64d-4c46-4e76-a10d-32fbde1d8d47",
   "metadata": {},
   "outputs": [],
   "source": [
    "X_train, X_test, y_train, y_test = train_test_split(\n",
    "    X, y, test_size=0.2, random_state=42)\n"
   ]
  },
  {
   "cell_type": "markdown",
   "id": "e3815f31-3148-4140-9ad0-c5d324eb953c",
   "metadata": {},
   "source": [
    "## 🤖 Model 1: Logistic Regression\n",
    "\n",
    "We train and evaluate a logistic regression model.\n"
   ]
  },
  {
   "cell_type": "code",
   "execution_count": 55,
   "id": "7d24af2e-a984-4890-8486-3487ff7a2433",
   "metadata": {},
   "outputs": [
    {
     "name": "stdout",
     "output_type": "stream",
     "text": [
      "Logistic Regression Accuracy: 0.8100558659217877\n",
      "\n",
      "Classification Report:\n",
      "               precision    recall  f1-score   support\n",
      "\n",
      "           0       0.83      0.86      0.84       105\n",
      "           1       0.79      0.74      0.76        74\n",
      "\n",
      "    accuracy                           0.81       179\n",
      "   macro avg       0.81      0.80      0.80       179\n",
      "weighted avg       0.81      0.81      0.81       179\n",
      "\n"
     ]
    }
   ],
   "source": [
    "lr_model = LogisticRegression(max_iter=1000)\n",
    "lr_model.fit(X_train, y_train)\n",
    "\n",
    "y_pred_lr = lr_model.predict(X_test)\n",
    "\n",
    "print(\"Logistic Regression Accuracy:\", accuracy_score(y_test, y_pred_lr))\n",
    "print(\"\\nClassification Report:\\n\", classification_report(y_test, y_pred_lr))\n"
   ]
  },
  {
   "cell_type": "markdown",
   "id": "6e619646-214d-4b24-ba87-c3d97150e658",
   "metadata": {},
   "source": [
    "## 🌳 Model 2: Decision Tree Classifier\n",
    "\n",
    "We also try a Decision Tree classifier for comparison.\n"
   ]
  },
  {
   "cell_type": "code",
   "execution_count": 57,
   "id": "11836044-3636-49cd-9629-eddacb34cbda",
   "metadata": {},
   "outputs": [
    {
     "name": "stdout",
     "output_type": "stream",
     "text": [
      "Decision Tree Accuracy: 0.7821229050279329\n",
      "\n",
      "Classification Report:\n",
      "               precision    recall  f1-score   support\n",
      "\n",
      "           0       0.83      0.79      0.81       105\n",
      "           1       0.72      0.77      0.75        74\n",
      "\n",
      "    accuracy                           0.78       179\n",
      "   macro avg       0.78      0.78      0.78       179\n",
      "weighted avg       0.79      0.78      0.78       179\n",
      "\n"
     ]
    }
   ],
   "source": [
    "dt_model = DecisionTreeClassifier(random_state=42)\n",
    "dt_model.fit(X_train, y_train)\n",
    "\n",
    "y_pred_dt = dt_model.predict(X_test)\n",
    "\n",
    "print(\"Decision Tree Accuracy:\", accuracy_score(y_test, y_pred_dt))\n",
    "print(\"\\nClassification Report:\\n\", classification_report(y_test, y_pred_dt))\n"
   ]
  },
  {
   "cell_type": "markdown",
   "id": "cdda5378-5379-428b-b38a-6c9ffa7373dd",
   "metadata": {},
   "source": [
    "## 📉 Confusion Matrix\n",
    "Visualize model performance.\n"
   ]
  },
  {
   "cell_type": "code",
   "execution_count": 61,
   "id": "04991cd6-4adb-4589-9f50-f0acfa50d27a",
   "metadata": {},
   "outputs": [
    {
     "data": {
      "image/png": "[encoded data removed]",
      "text/plain": [
       "<Figure size 640x480 with 2 Axes>"
      ]
     },
     "metadata": {},
     "output_type": "display_data"
    }
   ],
   "source": [
    "sns.heatmap(confusion_matrix(y_test, y_pred_lr), annot=True, fmt='d', cmap='Blues')\n",
    "plt.title(\"Logistic Regression Confusion Matrix\")\n",
    "plt.xlabel(\"Predicted\")\n",
    "plt.ylabel(\"Actual\")\n",
    "plt.show()\n"
   ]
  },
  {
   "cell_type": "markdown",
   "id": "690f64a3-4e68-4b71-9867-1d0752ae94d1",
   "metadata": {},
   "source": [
    "## ✅ Conclusion\n",
    "\n",
    "- Logistic Regression and Decision Tree models were trained to predict Titanic passenger survival.\n",
    "- Gender, class, age, and embarkation point played significant roles in survival outcomes.\n",
    "- Logistic Regression gave a more balanced classification, while Decision Tree offered high flexibility.\n",
    "\n",
    "This project sets the foundation for more advanced modeling such as ensemble learning, hyperparameter tuning, or deployment.\n"
   ]
  },
  {
   "cell_type": "markdown",
   "id": "522ac47a-dad8-4816-a416-be61106ef30f",
   "metadata": {},
   "source": [
    "## 🔮 Predicting Survival on Test Data\n"
   ]
  },
  {
   "cell_type": "code",
   "execution_count": 63,
   "id": "974ad63f-ece9-4509-8aba-cd16a8519afb",
   "metadata": {},
   "outputs": [
    {
     "data": {
      "text/html": [
       "<div>\n",
       "<style scoped>\n",
       "    .dataframe tbody tr th:only-of-type {\n",
       "        vertical-align: middle;\n",
       "    }\n",
       "\n",
       "    .dataframe tbody tr th {\n",
       "        vertical-align: top;\n",
       "    }\n",
       "\n",
       "    .dataframe thead th {\n",
       "        text-align: right;\n",
       "    }\n",
       "</style>\n",
       "<table border=\"1\" class=\"dataframe\">\n",
       "  <thead>\n",
       "    <tr style=\"text-align: right;\">\n",
       "      <th></th>\n",
       "      <th>PassengerId</th>\n",
       "      <th>Pclass</th>\n",
       "      <th>Name</th>\n",
       "      <th>Sex</th>\n",
       "      <th>Age</th>\n",
       "      <th>SibSp</th>\n",
       "      <th>Parch</th>\n",
       "      <th>Ticket</th>\n",
       "      <th>Fare</th>\n",
       "      <th>Cabin</th>\n",
       "      <th>Embarked</th>\n",
       "    </tr>\n",
       "  </thead>\n",
       "  <tbody>\n",
       "    <tr>\n",
       "      <th>0</th>\n",
       "      <td>892</td>\n",
       "      <td>3</td>\n",
       "      <td>Kelly, Mr. James</td>\n",
       "      <td>male</td>\n",
       "      <td>34.5</td>\n",
       "      <td>0</td>\n",
       "      <td>0</td>\n",
       "      <td>330911</td>\n",
       "      <td>7.8292</td>\n",
       "      <td>NaN</td>\n",
       "      <td>Q</td>\n",
       "    </tr>\n",
       "    <tr>\n",
       "      <th>1</th>\n",
       "      <td>893</td>\n",
       "      <td>3</td>\n",
       "      <td>Wilkes, Mrs. James (Ellen Needs)</td>\n",
       "      <td>female</td>\n",
       "      <td>47.0</td>\n",
       "      <td>1</td>\n",
       "      <td>0</td>\n",
       "      <td>363272</td>\n",
       "      <td>7.0000</td>\n",
       "      <td>NaN</td>\n",
       "      <td>S</td>\n",
       "    </tr>\n",
       "    <tr>\n",
       "      <th>2</th>\n",
       "      <td>894</td>\n",
       "      <td>2</td>\n",
       "      <td>Myles, Mr. Thomas Francis</td>\n",
       "      <td>male</td>\n",
       "      <td>62.0</td>\n",
       "      <td>0</td>\n",
       "      <td>0</td>\n",
       "      <td>240276</td>\n",
       "      <td>9.6875</td>\n",
       "      <td>NaN</td>\n",
       "      <td>Q</td>\n",
       "    </tr>\n",
       "    <tr>\n",
       "      <th>3</th>\n",
       "      <td>895</td>\n",
       "      <td>3</td>\n",
       "      <td>Wirz, Mr. Albert</td>\n",
       "      <td>male</td>\n",
       "      <td>27.0</td>\n",
       "      <td>0</td>\n",
       "      <td>0</td>\n",
       "      <td>315154</td>\n",
       "      <td>8.6625</td>\n",
       "      <td>NaN</td>\n",
       "      <td>S</td>\n",
       "    </tr>\n",
       "    <tr>\n",
       "      <th>4</th>\n",
       "      <td>896</td>\n",
       "      <td>3</td>\n",
       "      <td>Hirvonen, Mrs. Alexander (Helga E Lindqvist)</td>\n",
       "      <td>female</td>\n",
       "      <td>22.0</td>\n",
       "      <td>1</td>\n",
       "      <td>1</td>\n",
       "      <td>3101298</td>\n",
       "      <td>12.2875</td>\n",
       "      <td>NaN</td>\n",
       "      <td>S</td>\n",
       "    </tr>\n",
       "  </tbody>\n",
       "</table>\n",
       "</div>"
      ],
      "text/plain": [
       "   PassengerId  Pclass                                          Name     Sex  \\\n",
       "0          892       3                              Kelly, Mr. James    male   \n",
       "1          893       3              Wilkes, Mrs. James (Ellen Needs)  female   \n",
       "2          894       2                     Myles, Mr. Thomas Francis    male   \n",
       "3          895       3                              Wirz, Mr. Albert    male   \n",
       "4          896       3  Hirvonen, Mrs. Alexander (Helga E Lindqvist)  female   \n",
       "\n",
       "    Age  SibSp  Parch   Ticket     Fare Cabin Embarked  \n",
       "0  34.5      0      0   330911   7.8292   NaN        Q  \n",
       "1  47.0      1      0   363272   7.0000   NaN        S  \n",
       "2  62.0      0      0   240276   9.6875   NaN        Q  \n",
       "3  27.0      0      0   315154   8.6625   NaN        S  \n",
       "4  22.0      1      1  3101298  12.2875   NaN        S  "
      ]
     },
     "execution_count": 63,
     "metadata": {},
     "output_type": "execute_result"
    }
   ],
   "source": [
    "# Load test data\n",
    "test_df = pd.read_csv(r'D:\\Python Projects\\titanic\\test.csv')\n",
    "test_df.head()\n"
   ]
  },
  {
   "cell_type": "code",
   "execution_count": 65,
   "id": "7aa4b51b-6f97-4509-9d5e-28a000e2b69f",
   "metadata": {},
   "outputs": [],
   "source": [
    "from sklearn.preprocessing import LabelEncoder\n",
    "\n",
    "# Encode only if not already numeric\n",
    "if test_df['Sex'].dtype == 'object':\n",
    "    le = LabelEncoder()\n",
    "    le.fit(['male', 'female'])\n",
    "    test_df['Sex'] = le.transform(test_df['Sex'])\n",
    "\n",
    "if test_df['Embarked'].dtype == 'object':\n",
    "    le_embarked = LabelEncoder()\n",
    "    le_embarked.fit(['S', 'C', 'Q'])\n",
    "    test_df['Embarked'] = le_embarked.transform(test_df['Embarked'])\n",
    "\n",
    "# Fill missing values\n",
    "test_df['Age'] = test_df['Age'].fillna(test_df['Age'].median())\n",
    "test_df['Fare'] = test_df['Fare'].fillna(test_df['Fare'].median())\n",
    "\n",
    "# Drop unnecessary columns\n",
    "test_df = test_df.drop(['Name', 'Ticket', 'Cabin'], axis=1)\n"
   ]
  },
  {
   "cell_type": "code",
   "execution_count": 67,
   "id": "f57940df-6db9-4030-b489-927b5cb47ce9",
   "metadata": {},
   "outputs": [
    {
     "name": "stdout",
     "output_type": "stream",
     "text": [
      "[1 0]\n",
      "[1 2 0]\n"
     ]
    }
   ],
   "source": [
    "print(test_df['Sex'].unique())\n",
    "print(test_df['Embarked'].unique())\n"
   ]
  },
  {
   "cell_type": "code",
   "execution_count": 71,
   "id": "45101fae-ba6f-4a3c-be5b-11d6c82e6c85",
   "metadata": {},
   "outputs": [],
   "source": [
    "import pandas as pd\n",
    "\n",
    "# Load training data\n",
    "train_df = pd.read_csv(\"D:/Python Projects/titanic/train.csv\")\n",
    "\n",
    "# Drop unnecessary columns\n",
    "train_df = train_df.drop(['Name', 'Ticket', 'Cabin'], axis=1)\n",
    "\n",
    "# Handle missing values\n",
    "train_df['Age'] = train_df['Age'].fillna(train_df['Age'].median())\n",
    "train_df['Embarked'] = train_df['Embarked'].fillna(train_df['Embarked'].mode()[0])\n",
    "\n",
    "# Encode categorical variables\n",
    "from sklearn.preprocessing import LabelEncoder\n",
    "\n",
    "le_sex = LabelEncoder()\n",
    "train_df['Sex'] = le_sex.fit_transform(train_df['Sex'])\n",
    "\n",
    "le_embarked = LabelEncoder()\n",
    "train_df['Embarked'] = le_embarked.fit_transform(train_df['Embarked'])\n"
   ]
  },
  {
   "cell_type": "code",
   "execution_count": 73,
   "id": "9a2602c8-d76a-43b1-aae6-4ca175d9d16a",
   "metadata": {},
   "outputs": [],
   "source": [
    "from sklearn.model_selection import train_test_split\n",
    "\n",
    "X = train_df.drop('Survived', axis=1)\n",
    "y = train_df['Survived']\n",
    "\n",
    "X_train, X_val, y_train, y_val = train_test_split(X, y, test_size=0.2, random_state=42)\n"
   ]
  },
  {
   "cell_type": "markdown",
   "id": "749e248f-9c1b-4dd8-b9c6-404c5621229c",
   "metadata": {},
   "source": [
    "Train a Model (RandomForest or LogisticRegression)"
   ]
  },
  {
   "cell_type": "code",
   "execution_count": 75,
   "id": "d62b0ee2-0182-4c03-8bc5-ab6f963354d5",
   "metadata": {},
   "outputs": [
    {
     "name": "stdout",
     "output_type": "stream",
     "text": [
      "Validation Accuracy: 0.8268156424581006\n"
     ]
    }
   ],
   "source": [
    "from sklearn.ensemble import RandomForestClassifier\n",
    "from sklearn.metrics import accuracy_score\n",
    "\n",
    "model = RandomForestClassifier(n_estimators=100, random_state=42)\n",
    "model.fit(X_train, y_train)\n",
    "\n",
    "# Validate\n",
    "y_pred = model.predict(X_val)\n",
    "print(\"Validation Accuracy:\", accuracy_score(y_val, y_pred))\n"
   ]
  },
  {
   "cell_type": "markdown",
   "id": "9a850a6b-ea13-4c43-8c59-a650b9e920f7",
   "metadata": {},
   "source": [
    "Make Predictions on test_df\n"
   ]
  },
  {
   "cell_type": "code",
   "execution_count": 77,
   "id": "34f4a946-36d9-4b4d-85f5-58ba49cb6326",
   "metadata": {},
   "outputs": [],
   "source": [
    "predictions = model.predict(test_df)\n"
   ]
  },
  {
   "cell_type": "code",
   "execution_count": 79,
   "id": "4c129176-fc3f-496a-88b1-da07c4395ffa",
   "metadata": {},
   "outputs": [
    {
     "name": "stderr",
     "output_type": "stream",
     "text": [
      "C:\\Users\\Sparta Laptop\\AppData\\Roaming\\Python\\Python312\\site-packages\\sklearn\\linear_model\\_logistic.py:469: ConvergenceWarning: lbfgs failed to converge (status=1):\n",
      "STOP: TOTAL NO. of ITERATIONS REACHED LIMIT.\n",
      "\n",
      "Increase the number of iterations (max_iter) or scale the data as shown in:\n",
      "    https://scikit-learn.org/stable/modules/preprocessing.html\n",
      "Please also refer to the documentation for alternative solver options:\n",
      "    https://scikit-learn.org/stable/modules/linear_model.html#logistic-regression\n",
      "  n_iter_i = _check_optimize_result(\n"
     ]
    },
    {
     "data": {
      "text/plain": [
       "<sklearn.metrics._plot.confusion_matrix.ConfusionMatrixDisplay at 0x25e34bf8b30>"
      ]
     },
     "execution_count": 79,
     "metadata": {},
     "output_type": "execute_result"
    },
    {
     "data": {
      "image/png": "[encoded data removed]",
      "text/plain": [
       "<Figure size 640x480 with 2 Axes>"
      ]
     },
     "metadata": {},
     "output_type": "display_data"
    }
   ],
   "source": [
    "from sklearn.metrics import confusion_matrix, ConfusionMatrixDisplay\n",
    "\n",
    "# Assuming y_val is true labels and y_pred is predicted\n",
    "from sklearn.linear_model import LogisticRegression\n",
    "model = LogisticRegression()\n",
    "model.fit(X_train, y_train)\n",
    "y_pred = model.predict(X_val)\n",
    "\n",
    "# Confusion Matrix\n",
    "cm = confusion_matrix(y_val, y_pred)\n",
    "disp = ConfusionMatrixDisplay(confusion_matrix=cm, display_labels=['Did not survive', 'Survived'])\n",
    "disp.plot(cmap='Blues')\n"
   ]
  },
  {
   "cell_type": "code",
   "execution_count": 81,
   "id": "74c5591e-eed6-4223-b2d6-16528a2a2a3b",
   "metadata": {},
   "outputs": [
    {
     "data": {
      "image/png": "[encoded data removed]",
      "text/plain": [
       "<Figure size 800x600 with 1 Axes>"
      ]
     },
     "metadata": {},
     "output_type": "display_data"
    }
   ],
   "source": [
    "from sklearn.metrics import roc_curve, auc\n",
    "import matplotlib.pyplot as plt\n",
    "\n",
    "y_prob = model.predict_proba(X_val)[:, 1]  # Probability of survival\n",
    "\n",
    "fpr, tpr, thresholds = roc_curve(y_val, y_prob)\n",
    "roc_auc = auc(fpr, tpr)\n",
    "\n",
    "plt.figure(figsize=(8, 6))\n",
    "plt.plot(fpr, tpr, color='blue', label=f'ROC Curve (area = {roc_auc:.2f})')\n",
    "plt.plot([0, 1], [0, 1], color='gray', linestyle='--')\n",
    "plt.xlabel('False Positive Rate')\n",
    "plt.ylabel('True Positive Rate')\n",
    "plt.title('Receiver Operating Characteristic (ROC)')\n",
    "plt.legend()\n",
    "plt.grid()\n",
    "plt.show()\n"
   ]
  },
  {
   "cell_type": "markdown",
   "id": "4d664b2f-31bc-4baf-a259-3626f714c60c",
   "metadata": {},
   "source": [
    "Bar Plot of Survival Predictions (on test set)"
   ]
  },
  {
   "cell_type": "code",
   "execution_count": 83,
   "id": "4de44a50-15ea-4e8d-bb08-3bee2b2d8333",
   "metadata": {},
   "outputs": [
    {
     "data": {
      "image/png": "[encoded data removed]",
      "text/plain": [
       "<Figure size 640x480 with 1 Axes>"
      ]
     },
     "metadata": {},
     "output_type": "display_data"
    }
   ],
   "source": [
    "import seaborn as sns\n",
    "\n",
    "# Predict on test set\n",
    "test_pred = model.predict(test_df)\n",
    "\n",
    "sns.countplot(x=test_pred)\n",
    "plt.xticks([0, 1], ['Did not survive', 'Survived'])\n",
    "plt.title(\"Prediction Count on Test Set\")\n",
    "plt.ylabel(\"Number of Passengers\")\n",
    "plt.show()\n"
   ]
  },
  {
   "cell_type": "code",
   "execution_count": 85,
   "id": "2e65d376-8b02-44c1-99d9-f2a53f92a5bf",
   "metadata": {},
   "outputs": [
    {
     "name": "stdout",
     "output_type": "stream",
     "text": [
      "     PassengerId  Actual  Predicted\n",
      "709          709       1          0\n",
      "439          439       0          0\n",
      "840          840       0          0\n",
      "720          720       1          1\n",
      "39            39       1          1\n"
     ]
    }
   ],
   "source": [
    "import pandas as pd\n",
    "\n",
    "results_df = pd.DataFrame({\n",
    "    'PassengerId': X_val.index,\n",
    "    'Actual': y_val,\n",
    "    'Predicted': y_pred\n",
    "})\n",
    "\n",
    "print(results_df.head())\n"
   ]
  },
  {
   "cell_type": "code",
   "execution_count": 91,
   "id": "20bfbd1e-72b5-42af-92c0-fa8cd852af6f",
   "metadata": {},
   "outputs": [],
   "source": [
    "#for submission\n",
    "# Save PassengerId before dropping columns\n",
    "test_passenger_ids = test_df['PassengerId']\n",
    "\n",
    "\n",
    "submission = pd.DataFrame({\n",
    "    \"PassengerId\": test_passenger_ids,  # Extract this from the original test.csv before dropping\n",
    "    \"Survived\": predictions\n",
    "})\n",
    "submission.to_csv(\"submission.csv\", index=False)\n"
   ]
  },
  {
   "cell_type": "code",
   "execution_count": null,
   "id": "9e3cbec4-1ea9-40a8-9380-c837f10db30d",
   "metadata": {},
   "outputs": [],
   "source": []
  }
 ],
 "metadata": {
  "kernelspec": {
   "display_name": "Python 3 (ipykernel)",
   "language": "python",
   "name": "python3"
  },
  "language_info": {
   "codemirror_mode": {
    "name": "ipython",
    "version": 3
   },
   "file_extension": ".py",
   "mimetype": "text/x-python",
   "name": "python",
   "nbconvert_exporter": "python",
   "pygments_lexer": "ipython3",
   "version": "3.12.4"
  }
 },
 "nbformat": 4,
 "nbformat_minor": 5
}
